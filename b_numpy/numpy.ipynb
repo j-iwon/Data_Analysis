{
 "cells": [
  {
   "cell_type": "code",
   "execution_count": 1,
   "id": "7fab0077-94c3-4f3a-a746-3f58be221283",
   "metadata": {},
   "outputs": [],
   "source": [
    "import numpy as np"
   ]
  },
  {
   "cell_type": "code",
   "execution_count": 2,
   "id": "59f0ae93-915c-44fb-be4a-3117a93f1895",
   "metadata": {},
   "outputs": [
    {
     "name": "stdout",
     "output_type": "stream",
     "text": [
      "1.26.4\n"
     ]
    }
   ],
   "source": [
    "print(np.__version__)"
   ]
  },
  {
   "cell_type": "markdown",
   "id": "974b2326-1f47-4c42-8320-fb27aed1c20f",
   "metadata": {},
   "source": [
    "### Numpy\n",
    "- 머신러닝 애플리케이션에서 데이터 추출, 가공, 변환과 같은 데이터 처리 부분을 담당한다.\n",
    "- 넘파이 기반의 사이킷런을 이해하기 위해서는 넘파이는 필수이다.\n",
    "- 사이킷런은 직관적이고 간결하기 때문에 상대적으로 개발하기 쉽지만 넘파이는 양도 많고 배울 것도 많다.\n",
    "- 넘파이 전체를 다 이해하고 공부하는 것은 머신러닝을 포기하게 만들기 때문에\n",
    "  기본 문법과 중요 API만 이해하는 것이 전략적으로 좋다."
   ]
  },
  {
   "cell_type": "markdown",
   "id": "e8e518ae-07fe-4b2d-a8e0-6efafd3c9c10",
   "metadata": {},
   "source": [
    "#### ndarray\n",
    "- N차원(n-dimension) 배열 객체이다.\n",
    "- 파이썬 list를 array() 메소드에 전달하면 ndarray로 변환되고 넘파이의 다양하고 편리한 기능들을 사용할 수 있게된다.\n",
    "- 반드시 같은 자료형의 데이터만 담아야한다.\n",
    "\n",
    "<img src=\"./images/numpy1.png\" width=\"400px\">"
   ]
  },
  {
   "cell_type": "code",
   "execution_count": null,
   "id": "fb0d58eb-bf3a-4bab-98e7-da8b7c5114aa",
   "metadata": {},
   "outputs": [],
   "source": [
    "import numpy as np"
   ]
  },
  {
   "cell_type": "code",
   "execution_count": 4,
   "id": "6320071e-5a21-4dde-87ac-9b6ca7cbd9f6",
   "metadata": {},
   "outputs": [
    {
     "name": "stdout",
     "output_type": "stream",
     "text": [
      "<class 'numpy.ndarray'>\n",
      "[1 2 3]\n",
      "==============================\n",
      "(3,)\n",
      "1\n"
     ]
    }
   ],
   "source": [
    "ndarray1 = np.array([1, 2, 3])\n",
    "print(type(ndarray1), ndarray1, sep=\"\\n\")\n",
    "\n",
    "print(\"=\" * 30)\n",
    "\n",
    "# shape: 차원별 개수를 나타낸다.\n",
    "print(ndarray1.shape)\n",
    "\n",
    "# ndim: 차원 개수를 나타낸다.\n",
    "print(ndarray1.ndim)"
   ]
  },
  {
   "cell_type": "code",
   "execution_count": 12,
   "id": "6d145b57-f6c3-450f-9182-3df6d21c2539",
   "metadata": {},
   "outputs": [
    {
     "name": "stdout",
     "output_type": "stream",
     "text": [
      "==============================\n",
      "[[1 2 3]\n",
      " [4 5 6]]\n",
      "==============================\n",
      "(2, 3)\n",
      "2\n"
     ]
    }
   ],
   "source": [
    "# 아래의 2차원 list를 ndarray로 변환한다.\n",
    "# 1 2 3\n",
    "# 4 5 6\n",
    "\n",
    "# 차원을 출력해본다.\n",
    "\n",
    "ndarray2 = np.array([[1, 2, 3],[4, 5, 6]])\n",
    "print(\"=\" * 30)\n",
    "print(ndarray2)\n",
    "print(\"=\" * 30)\n",
    "print(ndarray2.shape)\n",
    "print(ndarray2.ndim)"
   ]
  },
  {
   "cell_type": "markdown",
   "id": "9f3c88b2-6bfd-4bb6-8fd5-e07c6a843822",
   "metadata": {},
   "source": [
    "#### astype()\n",
    "- ndarray에 저장된 요소의 타입을 변환시킬 때 사용한다.\n",
    "- 대용량 데이터 처리 시, 메모리 절약을 위해 사용한다."
   ]
  },
  {
   "cell_type": "code",
   "execution_count": 13,
   "id": "c23e2a5b-abb9-4e1c-a9e5-499d0d72d1d7",
   "metadata": {},
   "outputs": [
    {
     "name": "stdout",
     "output_type": "stream",
     "text": [
      "<class 'numpy.ndarray'>\n",
      "int32\n",
      "<class 'numpy.ndarray'>\n",
      "int8\n"
     ]
    }
   ],
   "source": [
    "ndarray1 = np.array([1, 2, 3])\n",
    "\n",
    "print(type(ndarray1))\n",
    "print(ndarray1.dtype)\n",
    "\n",
    "ndarray1_int8 = ndarray1.astype(np.int8)\n",
    "\n",
    "print(type(ndarray1_int8))\n",
    "print(ndarray1_int8.dtype)"
   ]
  },
  {
   "cell_type": "code",
   "execution_count": 23,
   "id": "2d7be832-03ff-4b34-a1b1-0c800a985f46",
   "metadata": {},
   "outputs": [
    {
     "name": "stdout",
     "output_type": "stream",
     "text": [
      "[4 5 6]\n",
      "<class 'numpy.ndarray'> int32\n",
      "(3,)\n",
      "1\n",
      "==============================\n",
      "[1. 2. 3.]\n",
      "<class 'numpy.ndarray'> float16\n",
      "(3,)\n",
      "1\n"
     ]
    }
   ],
   "source": [
    "#  4, 5, 6을 ndarray에 담는다.\n",
    "# dtype을 확인한 뒤 float16으로 변경시키고 확인한다.\n",
    "\n",
    "ndarray2 = np.array([4, 5, 6])\n",
    "\n",
    "print(ndarray2)\n",
    "print(type(ndarray2), ndarray2.dtype)\n",
    "print(ndarray2.shape)\n",
    "print(ndarray2.ndim)\n",
    "\n",
    "print(\"=\" * 30)\n",
    "\n",
    "ndarray2_float16 = ndarray1.astype(np.float16)\n",
    "\n",
    "print(ndarray2_float16)\n",
    "print(type(ndarray2_float16), ndarray2_float16.dtype)\n",
    "print(ndarray2_float16.shape)\n",
    "print(ndarray2_float16.ndim)"
   ]
  },
  {
   "cell_type": "markdown",
   "id": "6739ef58-e2f7-4b87-9e12-26bf7482e45d",
   "metadata": {},
   "source": [
    "#### axis\n",
    "- 축의 방향성을 표현할 때 axis로 표현할 수 있다.\n",
    "\n",
    "<img src=\"./images/numpy2.png\" width=\"400px\">"
   ]
  },
  {
   "cell_type": "markdown",
   "id": "731fd604-bcb0-45d8-b162-f20fc8df68d5",
   "metadata": {},
   "source": [
    "#### arnage(), zeros(), ones()\n",
    "- ndarray의 요소를 원하는 범위의 연속값, 0또는 1로 초기화 할 때 사용한다."
   ]
  },
  {
   "cell_type": "code",
   "execution_count": 101,
   "id": "6ce4f7cc-90b5-42da-b94f-b235362cdd01",
   "metadata": {},
   "outputs": [
    {
     "name": "stdout",
     "output_type": "stream",
     "text": [
      "int32 (10,)\n",
      "[0 1 2 3 4 5 6 7 8 9]\n",
      "float64 (2, 3)\n",
      "[[0. 0. 0.]\n",
      " [0. 0. 0.]]\n",
      "int16 (3,)\n",
      "[1 1 1]\n"
     ]
    }
   ],
   "source": [
    "# 0~9까지 1차원 ndarray\n",
    "ndarray1 = np.arange(0, 10)\n",
    "print(ndarray1.dtype, ndarray1.shape)\n",
    "print(ndarray1)\n",
    "\n",
    "# 2행 3열 요소 모두 0으로 초기화 한다\n",
    "ndarray2 = np.zeros((2, 3))\n",
    "print(ndarray2.dtype, ndarray2.shape)\n",
    "print(ndarray2)\n",
    "\n",
    "# 1차원 3칸 배열 요소 모두 1로 초기화\n",
    "# ndarray1 = np.ones(3,)\n",
    "# 머신러닝에서는 아래의 코드 사용!\n",
    "ndarray1 = np.ones((3,), dtype=np.int16)\n",
    "print(ndarray1.dtype, ndarray1.shape)\n",
    "print(ndarray1)"
   ]
  },
  {
   "cell_type": "markdown",
   "id": "59e44e4c-b158-4489-9868-a077cd48fec8",
   "metadata": {},
   "source": [
    "#### reshape()\n",
    "- ndarray의 기존 shape을 다른 shape로 변경한다."
   ]
  },
  {
   "cell_type": "code",
   "execution_count": 103,
   "id": "72620604-be7d-4291-9ec4-fb3f2e5a5be9",
   "metadata": {},
   "outputs": [
    {
     "name": "stdout",
     "output_type": "stream",
     "text": [
      "(8,)\n",
      "[0 1 2 3 4 5 6 7]\n",
      "==============================\n",
      "(2, 4) 2\n",
      "[[0 1 2 3]\n",
      " [4 5 6 7]]\n",
      "==============================\n",
      "(4, 2) 2\n",
      "[[0 1]\n",
      " [2 3]\n",
      " [4 5]\n",
      " [6 7]]\n",
      "==============================\n",
      "(8, 1) 2\n",
      "[[0]\n",
      " [1]\n",
      " [2]\n",
      " [3]\n",
      " [4]\n",
      " [5]\n",
      " [6]\n",
      " [7]]\n"
     ]
    }
   ],
   "source": [
    "ndarray1 = np.arange(8)\n",
    "print(ndarray1.shape)\n",
    "print(ndarray1)\n",
    "\n",
    "print(\"=\" * 30)\n",
    "\n",
    "ndarray2 = ndarray1.reshape((2,4))\n",
    "print(ndarray2.shape, ndarray2.ndim)\n",
    "print(ndarray2)\n",
    "\n",
    "print(\"=\" * 30)\n",
    "\n",
    "# -1을 쓰면 뒤를 기준으로 앞을 계산해서 넣어준다\n",
    "ndarray3 = ndarray1.reshape((-1, 2))\n",
    "print(ndarray3.shape, ndarray3.ndim)\n",
    "print(ndarray3)\n",
    "\n",
    "print(\"=\" * 30)\n",
    "\n",
    "# -1을 쓰면 앞을 기준으로 뒤를 계산해서 넣어준다\n",
    "ndarray4 = ndarray1.reshape((8, -1))\n",
    "print(ndarray4.shape, ndarray4.ndim)\n",
    "print(ndarray4)"
   ]
  },
  {
   "cell_type": "markdown",
   "id": "448684a5-c0f2-492d-a37c-f85bf36648f4",
   "metadata": {},
   "source": [
    "#### Indexing ★★★\n",
    "- 특정 위치의 데이터를 가져오는 것\n",
    "- 위치 인덱싱(Location indexing)\n",
    "- 슬라이싱(Slicing)\n",
    "- 팬시 인덱싱(Fancy indexing)\n",
    "- 불린 인덱싱(Boolean indexing)"
   ]
  },
  {
   "cell_type": "code",
   "execution_count": 56,
   "id": "a0c06623-819c-4ae1-8933-419fec78542b",
   "metadata": {},
   "outputs": [
    {
     "name": "stdout",
     "output_type": "stream",
     "text": [
      "[ 2  3  4  5  6  7  8  9 10]\n",
      "4 <class 'numpy.int32'>\n",
      "10 <class 'numpy.int32'>\n",
      "[  2   3   4   5   6   7   8   9 100]\n"
     ]
    }
   ],
   "source": [
    "# 1차원 위치 인덱싱: 전달한 위치(인덱스) 값 한 개 추출\n",
    "\n",
    "# 2부터 10까지 순서대로 요소를 갖는 1차원 ndarray\n",
    "# ndarray1 = np.arange(2, 11) 이것보다 아래처럼 쓰기\n",
    "ndarray1 = np.arange(start=2, stop=11)\n",
    "print(ndarray1)\n",
    "\n",
    "data = ndarray1[2]\n",
    "print(data, type(data))\n",
    "\n",
    "data = ndarray1[-1]\n",
    "print(data, type(data))\n",
    "\n",
    "ndarray1[-1] = 100\n",
    "print(ndarray1)\n",
    "\n",
    "# 9가져오기\n",
    "data = ndarray1[-2]"
   ]
  },
  {
   "cell_type": "code",
   "execution_count": 55,
   "id": "1cc28793-105b-411a-a700-2b5204409c1c",
   "metadata": {},
   "outputs": [
    {
     "name": "stdout",
     "output_type": "stream",
     "text": [
      "[1 2 3 4 5 6 7 8 9]\n",
      "[[1 2 3]\n",
      " [4 5 6]\n",
      " [7 8 9]]\n",
      "4\n",
      "5\n",
      "[1 2 3]\n"
     ]
    }
   ],
   "source": [
    "# 2차원 위치 인덱싱: 전달한 위치(인덱스) 값 한 개 추출\n",
    "\n",
    "# 1 ~ 9까지 1차원 ndarray 생성\n",
    "# 2차원 3행으로 변경\n",
    "\n",
    "ndarray1 = np.arange(start=1, stop=10)\n",
    "print(ndarray1)\n",
    "\n",
    "ndarray2 = ndarray1.reshape((3, -1))\n",
    "print(ndarray2)\n",
    "print(ndarray2[1,0])\n",
    "print(ndarray2[1,1])\n",
    "print(ndarray2[0])"
   ]
  },
  {
   "cell_type": "code",
   "execution_count": 59,
   "id": "d32d001f-5105-41c6-8d4b-8969f690e7cb",
   "metadata": {},
   "outputs": [
    {
     "name": "stdout",
     "output_type": "stream",
     "text": [
      "[2 4 6 8]\n",
      "[2 4 6]\n",
      "[2 4 6] 8\n"
     ]
    }
   ],
   "source": [
    "# 1차원 슬라이싱: 시작 위치와 종료 위치에 해당하는 ndarray 추출\n",
    "\n",
    "ndarray1 = np.arange(start=2, stop=10, step=2)\n",
    "print(ndarray1)\n",
    "\n",
    "print(ndarray1[:3])\n",
    "\n",
    "# 맨 마지막걸 가져오는것, 맨 마지막을 빼고 가져오는 것 (제일 많이 씀)\n",
    "print(ndarray1[:-1], ndarray1[-1])"
   ]
  },
  {
   "cell_type": "code",
   "execution_count": 64,
   "id": "1e41d93f-89c6-4084-9936-d5eca85b6e2f",
   "metadata": {},
   "outputs": [
    {
     "name": "stdout",
     "output_type": "stream",
     "text": [
      "[ 1  2  3  4  5  6  7  8  9 10 11 12 13 14 15 16 17 18 19 20 21 22 23 24\n",
      " 25 26 27]\n",
      "==============================\n",
      "[[ 1  2  3]\n",
      " [ 4  5  6]\n",
      " [ 7  8  9]\n",
      " [10 11 12]\n",
      " [13 14 15]\n",
      " [16 17 18]\n",
      " [19 20 21]\n",
      " [22 23 24]\n",
      " [25 26 27]]\n",
      "==============================\n",
      "[[1 2]\n",
      " [4 5]\n",
      " [7 8]]\n",
      "[[13 14 15]\n",
      " [16 17 18]\n",
      " [19 20 21]\n",
      " [22 23 24]\n",
      " [25 26 27]]\n",
      "[[25 26 27]\n",
      " [22 23 24]\n",
      " [19 20 21]\n",
      " [16 17 18]\n",
      " [13 14 15]\n",
      " [10 11 12]\n",
      " [ 7  8  9]\n",
      " [ 4  5  6]\n",
      " [ 1  2  3]]\n"
     ]
    }
   ],
   "source": [
    "# 2차원 슬라이싱: 시작 위치와 종료 위치에 해당하는 ndarray 추출\n",
    "\n",
    "ndarray1 = np.arange(start=1, stop=28)\n",
    "print(ndarray1)\n",
    "\n",
    "print(\"=\" * 30)\n",
    "\n",
    "ndarray2 = ndarray1.reshape((-1, 3))\n",
    "print(ndarray2)\n",
    "\n",
    "print(\"=\" * 30)\n",
    "\n",
    "# 행과 열에 대한 슬라이스\n",
    "print(ndarray2[:3, :2])\n",
    "\n",
    "# 행에대한 슬라이스\n",
    "print(ndarray2[4:9])\n",
    "\n",
    "print(ndarray2[::-1])"
   ]
  },
  {
   "cell_type": "code",
   "execution_count": 66,
   "id": "3945e2a2-f2c6-423c-a16a-af3542b12662",
   "metadata": {},
   "outputs": [
    {
     "name": "stdout",
     "output_type": "stream",
     "text": [
      "[[ 1  2  3  4  5]\n",
      " [ 6  7  8  9 10]\n",
      " [11 12 13 14 15]\n",
      " [16 17 18 19 20]]\n",
      "==============================\n",
      "[[ 1  2  3  4  5]\n",
      " [ 6  7  8  9 10]\n",
      " [16 17 18 19 20]]\n",
      "[[ 3  4  5]\n",
      " [ 8  9 10]\n",
      " [18 19 20]]\n"
     ]
    }
   ],
   "source": [
    "# 팬시 인덱싱: list를 전달해서 한 번에 여러 요소를 추출한다.\n",
    "\n",
    "ndarray1 = np.arange(start=1, stop=21)\n",
    "ndarray2 = ndarray1.reshape((4, -1))\n",
    "print(ndarray2)\n",
    "\n",
    "print(\"=\"*30)\n",
    "\n",
    "# 0번째, 1번쨰, 3번째 행을 가져옴\n",
    "ndarray2[[0,1,3]]\n",
    "print(ndarray2[[0,1,3]])\n",
    "\n",
    "# 첫번째는 행, 두번째는 열\n",
    "ndarray2[[0,1,3], 2:5]\n",
    "print(ndarray2[[0,1,3], 2:5])"
   ]
  },
  {
   "cell_type": "code",
   "execution_count": 79,
   "id": "df763011-89a2-44aa-adb0-350a3e5a8c02",
   "metadata": {},
   "outputs": [
    {
     "name": "stdout",
     "output_type": "stream",
     "text": [
      "[  1   4   7  10  13  16  19  22  25  28  31  34  37  40  43  46  49  52\n",
      "  55  58  61  64  67  70  73  76  79  82  85  88  91  94  97 100]\n",
      "================================================================================\n",
      "[False False False  True False False False False  True False False False\n",
      " False  True False False False False  True False False False False  True\n",
      " False False False False  True False False False False  True]\n",
      "================================================================================\n"
     ]
    },
    {
     "data": {
      "text/plain": [
       "array([ 10,  25,  40,  55,  70,  85, 100])"
      ]
     },
     "execution_count": 79,
     "metadata": {},
     "output_type": "execute_result"
    }
   ],
   "source": [
    "# 불린 인덱싱: True인 위치의 ndarray 추출\n",
    "\n",
    "ndarray1 = np.arange(start=1, stop=101, step=3)\n",
    "print(ndarray1)\n",
    "print(\"=\"*80)\n",
    "print(ndarray1 % 5 == 0)\n",
    "print(\"=\"*80)\n",
    "\n",
    "# True인 인덱스만 추출\n",
    "ndarray1[ndarray1 % 5 == 0]"
   ]
  },
  {
   "cell_type": "markdown",
   "id": "54aa1d8a-c8a0-4570-98e4-dd8d721f2dc5",
   "metadata": {},
   "source": [
    "#### Sorting\n",
    "- 모두 오름차순 정렬이며, 내림차순은 오름차순 정렬 후 [::-1]을 붙여 사용한다."
   ]
  },
  {
   "cell_type": "code",
   "execution_count": 80,
   "id": "87ae036d-53a6-4944-821f-69b67b929c76",
   "metadata": {},
   "outputs": [
    {
     "name": "stdout",
     "output_type": "stream",
     "text": [
      "원본 배열: [0 4 2 5]\n",
      "오름차순으로 정렬된 배열: [0 2 4 5]\n",
      "내림차순으로 정렬된 배열: [5 4 2 0]\n"
     ]
    }
   ],
   "source": [
    "# np.sort(ndarray)\n",
    "\n",
    "original_ndarray  = np.array([0, 4, 2, 5])\n",
    "sorted_ndarray = np.sort(original_ndarray)\n",
    "\n",
    "print(f\"원본 배열: {original_ndarray}\")\n",
    "print(f\"오름차순으로 정렬된 배열: {sorted_ndarray}\")\n",
    "print(f\"내림차순으로 정렬된 배열: {sorted_ndarray[::-1]}\")"
   ]
  },
  {
   "cell_type": "code",
   "execution_count": 95,
   "id": "70d492a9-9a91-4fab-8c3a-9c89051906dd",
   "metadata": {},
   "outputs": [
    {
     "name": "stdout",
     "output_type": "stream",
     "text": [
      "원본 \n",
      "[[20 18 16 14 12]\n",
      " [10  8  6  4  2]]\n",
      "axis = 0 정렬 \n",
      "[[10  8  6  4  2]\n",
      " [20 18 16 14 12]]\n",
      "axis = 1 정렬 \n",
      "[[12 14 16 18 20]\n",
      " [ 2  4  6  8 10]]\n",
      "axis = 1[::-1] 정렬 \n",
      "[[ 2  4  6  8 10]\n",
      " [12 14 16 18 20]]\n"
     ]
    }
   ],
   "source": [
    "# np.sort(ndarray, axis=n)\n",
    "\n",
    "ndarray1 = np.array([i for i in range(20, 0, -2)])\n",
    "ndarray2 = ndarray1.reshape((2, -1))\n",
    "print(f\"원본 \\n{ndarray2}\")\n",
    "\n",
    "sorted_ndarray_axis0 = np.sort(ndarray2, axis=0)\n",
    "print(f\"axis = 0 정렬 \\n{sorted_ndarray_axis0}\")\n",
    "\n",
    "sorted_ndarray_axis1 = np.sort(ndarray2, axis=1)\n",
    "print(f\"axis = 1 정렬 \\n{sorted_ndarray_axis1}\")\n",
    "# 행을 거꾸로\n",
    "print(f\"axis = 1[::-1] 정렬 \\n{sorted_ndarray_axis1[::-1]}\")"
   ]
  },
  {
   "cell_type": "code",
   "execution_count": 94,
   "id": "99271869-ef69-4792-8e74-9e8e0c8d8288",
   "metadata": {},
   "outputs": [
    {
     "name": "stdout",
     "output_type": "stream",
     "text": [
      "정렬 후 원본 인덱스: [0 2 1 3]\n",
      "오름차순으로 정렬된 ndarray: [0 2 3 6]\n"
     ]
    }
   ],
   "source": [
    "# np.argsort(ndarray)\n",
    "\n",
    "original_ndarray = np.array([0, 3, 2, 6])\n",
    "sorted_indices = np.argsort(original_ndarray)\n",
    "print(f\"정렬 후 원본 인덱스: {sorted_indices}\")\n",
    "\n",
    "sorted_ndarray = original_ndarray[sorted_indices]\n",
    "print(f\"오름차순으로 정렬된 ndarray: {sorted_ndarray}\")"
   ]
  },
  {
   "cell_type": "code",
   "execution_count": 100,
   "id": "0538d43e-ca14-419f-9487-3e949a673690",
   "metadata": {},
   "outputs": [
    {
     "name": "stdout",
     "output_type": "stream",
     "text": [
      "['Lamborghini' 'Mclaren' 'Bentley' 'Benz' 'The New Morning']\n",
      "['Lamborghini' 'Mclaren' 'Bentley' 'Benz' 'The New Morning']\n"
     ]
    }
   ],
   "source": [
    "#  제로백이 빠른 순으로 자동차 이름 정렬하기\n",
    "\n",
    "cars = np.array(['Lamborghini', 'Mclaren', 'Benz', 'Bentley', 'The New Morning'])\n",
    "zero100 = np.array([2.8, 2.9, 5.2, 3.7, 13.5])\n",
    "\n",
    "# 내 풀이\n",
    "fast_zero100 = np.argsort(zero100)\n",
    "fast_cars = cars[fast_zero100]\n",
    "print(fast_cars)\n",
    "\n",
    "# 강사님 풀이\n",
    "print(cars[zero100.argsort()])"
   ]
  },
  {
   "cell_type": "markdown",
   "id": "95a3e92d-440a-4be7-9874-3380a72a916d",
   "metadata": {},
   "source": [
    "### 벡터\n",
    "- 데이터 과학에서 벡터란 숫자 자료를 나열한 것을 의미한다.\n",
    "- 벡터는 공간에서 한 점을 나타낸다.\n",
    "- feature 1개당 1차원이고, feature가 3개면 3차원이다.\n",
    "- 이 때, 1차원 좌표평면에서는 열벡터를 표현할 수 있으며, 2차원 좌표평면에서는 2열 데이터를 표현할 수 있게 된다."
   ]
  },
  {
   "cell_type": "code",
   "execution_count": null,
   "id": "3217fe3c-81b0-4a4e-bc53-6fc07270e98d",
   "metadata": {},
   "outputs": [],
   "source": [
    "# 컬럼 하나는 열, 컬럼 하나당 차원으로 나타냄. 열벡터(열이 한 개 있는거).\n",
    "# 방정식을 통해 함수가 나옴, 방정식을 위해서 코드 작성을 해야하나 엄청 많은 코드를 작성해야함 (행열없인 너무 번거로움).\n",
    "# 그래서 열벡터와 행벡터를 만들어 내적 연산을 한다. (치환해서 계산)"
   ]
  },
  {
   "cell_type": "markdown",
   "id": "bb6d09a3-cb40-4c27-bdb3-b9fad7fad021",
   "metadata": {},
   "source": [
    "#### 내적 (Dot product)\n",
    "- 두 벡터의 성분들의 곱의 합\n",
    "\n",
    "<img src=\"./images/dot_product.png\" width=\"500px\" style=\"margin-left: 10px\">"
   ]
  },
  {
   "cell_type": "markdown",
   "id": "3aa0aa4c-f057-4786-81bd-4031a088cad6",
   "metadata": {},
   "source": [
    "#### 선형대수 (Linear Algebra)\n",
    "- 선형 방정식을 풀기 위해 배우는 학문이다.\n",
    "- 4x = 16일 경우, 좌항의 4를 우항으로 넘겨서 x라는 것을 구할 수 있고,\n",
    "  방정식 1개만으로 해를 구할 수 있다.\n",
    "- y = 2x + 5일 경우, 미지수가 2개이기 때문에 방정식이 2개 필요하다.\n",
    "- 이러한 연립 방정식을 표현할 때 쉽게 표현하기 위해서 선형대수를 배운다."
   ]
  },
  {
   "cell_type": "code",
   "execution_count": 2,
   "id": "595e354d-e57b-44a3-822a-85a2116178e3",
   "metadata": {},
   "outputs": [
    {
     "name": "stdout",
     "output_type": "stream",
     "text": [
      "[[1 2]\n",
      " [3 4]]\n",
      "[[5]\n",
      " [6]]\n",
      "[[17]\n",
      " [39]]\n"
     ]
    }
   ],
   "source": [
    "import numpy as np\n",
    "\n",
    "A = np.array([1, 2, 3, 4]).reshape((2, 2))\n",
    "w = np.array([5, 6]).reshape((2, 1))\n",
    "\n",
    "print(A, w, sep=\"\\n\")\n",
    "print(np.dot(A, w))\n",
    "\n",
    "# 수학적으로는 연립방정식으로 풀어야하는걸 numpy 라이브러리를 사용해서 쉽게 해를 구해준다.\n",
    "# k1 = x1w1 + x2w2, k2 = y1w1 + y2w2 를 위처럼 쉽게 써서 풀어줌"
   ]
  },
  {
   "cell_type": "code",
   "execution_count": 6,
   "id": "e1b719f7-df10-4593-a2fd-99d5ea765656",
   "metadata": {},
   "outputs": [
    {
     "name": "stdout",
     "output_type": "stream",
     "text": [
      "[[8.]\n",
      " [2.]]\n"
     ]
    }
   ],
   "source": [
    "# x + y = 10\n",
    "# 2x - 3y = 10\n",
    "\n",
    "# 아래와 같은 형식으로 치환을 합니다.\n",
    "# Aw = k\n",
    "\n",
    "# 행벡터\n",
    "A = np.array([[1, 1], [2, -3]])\n",
    "# .T를 사용해서 열벡터로 변환\n",
    "k = np.array([[10, 10]]).T\n",
    "\n",
    "# 역행렬을 구해주는 메소드 np.linalg.inv(), 역행렬과 벡터의 내적을 계산하는 np.dot() 이를 통해 선형방정식으로 해를 구할 수 있습니다.\n",
    "w = np.dot(np.linalg.inv(A), k)\n",
    "\n",
    "# x의 해와 y의 해 출력\n",
    "print(w)"
   ]
  },
  {
   "cell_type": "code",
   "execution_count": 10,
   "id": "6a5c7979-d00f-4cf1-b115-c7e4f64ad15c",
   "metadata": {},
   "outputs": [
    {
     "name": "stdout",
     "output_type": "stream",
     "text": [
      "[[ 8.]\n",
      " [-2.]\n",
      " [-1.]]\n"
     ]
    }
   ],
   "source": [
    "# 3차원\n",
    "# x + 2y + 3z = 1\n",
    "# x + 2y + z = 3\n",
    "# x + 3z = 5\n",
    "\n",
    "A = np.array([[1, 2, 3],[1, 2, 1],[1, 0, 3]])\n",
    "k = np.array([[1, 3, 5]]).T\n",
    "\n",
    "w = np.dot(np.linalg.inv(A), k)\n",
    "print(w)"
   ]
  },
  {
   "cell_type": "markdown",
   "id": "cf96a34b-21e2-4fa1-ac8d-169dd9ec2ee2",
   "metadata": {},
   "source": [
    "#### 과결정계 (Overdetermined system)\n",
    "- 미지수보다 많은 방정식이 있는 연립방정식으로서 보통 해가 존재하지 않는다.\n",
    "- 3차원 공간에 존재하는 2차원 평면에서 3차원 공간의 해를 구할 수 없기 때문에,\n",
    "  3차원을 2차원으로 축소해야 하고, 이 때 투영이 필요하다.\n",
    "- 투영시, 원본 값에서 어느정도의 loss(손실)가 발생하지만 이를 감안하고 근사값을 구한다."
   ]
  },
  {
   "cell_type": "code",
   "execution_count": null,
   "id": "8c5f6d5d-5e75-4496-91b6-b363c0b6dd58",
   "metadata": {},
   "outputs": [],
   "source": []
  },
  {
   "cell_type": "code",
   "execution_count": null,
   "id": "a6537845-95b8-4736-a99f-13b135c087b1",
   "metadata": {},
   "outputs": [],
   "source": []
  },
  {
   "cell_type": "code",
   "execution_count": null,
   "id": "7506f9f7-c6a5-4a73-a903-422bb0020f31",
   "metadata": {},
   "outputs": [],
   "source": []
  },
  {
   "cell_type": "code",
   "execution_count": null,
   "id": "e660dfbf-a367-4244-b3f4-28299cee39e6",
   "metadata": {},
   "outputs": [],
   "source": []
  },
  {
   "cell_type": "code",
   "execution_count": null,
   "id": "56870381-d7a4-4d2e-b6d9-f2f2a748adaa",
   "metadata": {},
   "outputs": [],
   "source": []
  },
  {
   "cell_type": "code",
   "execution_count": null,
   "id": "9c91be78-3230-4b9e-9f90-a10cbf71eead",
   "metadata": {},
   "outputs": [],
   "source": []
  },
  {
   "cell_type": "code",
   "execution_count": null,
   "id": "ef9828ea-c912-4383-b613-5c23995e0292",
   "metadata": {},
   "outputs": [],
   "source": []
  },
  {
   "cell_type": "code",
   "execution_count": null,
   "id": "0aefda7c-3cf6-4ac9-8107-4c40a87e2e23",
   "metadata": {},
   "outputs": [],
   "source": []
  },
  {
   "cell_type": "code",
   "execution_count": null,
   "id": "271b2720-0816-42fd-ae45-45f3d22cc508",
   "metadata": {},
   "outputs": [],
   "source": []
  }
 ],
 "metadata": {
  "kernelspec": {
   "display_name": "Python 3 (ipykernel)",
   "language": "python",
   "name": "python3"
  },
  "language_info": {
   "codemirror_mode": {
    "name": "ipython",
    "version": 3
   },
   "file_extension": ".py",
   "mimetype": "text/x-python",
   "name": "python",
   "nbconvert_exporter": "python",
   "pygments_lexer": "ipython3",
   "version": "3.11.8"
  }
 },
 "nbformat": 4,
 "nbformat_minor": 5
}
