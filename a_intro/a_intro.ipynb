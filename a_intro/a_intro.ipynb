{
 "cells": [
  {
   "cell_type": "markdown",
   "id": "d9585aea-a199-4786-8861-b8db763784ed",
   "metadata": {},
   "source": [
    "### Data Analysis\n",
    "- 원시(원본 그대로) 데이터를 분석하여 인사이트(가시성 증가 및 깊은 이해)로 변환하는 작업이다.\n",
    "- 문제를 해결하기 위해 데잍처를 사용해서 흐름 및 방향을 찾는 기술이다.\n",
    "- 데이터 분석을 통해 비지니스 프로세스를 구성하고, 의사 결정을 개선하며, 비지니스 성장을 증진할 수 있다.\n",
    "\n",
    "<img src=\"./images/architecture.png\" width=\"600px\" style=\"margin-left: 10px;\">\n",
    "** <sub>ETL은 Extract(추출), Transform(변환), Load(적재)를 의미한다. 여기 저기 흩어진 데이터를 하나로 모으기 위한 결합 과정이다.</sub>"
   ]
  },
  {
   "cell_type": "markdown",
   "id": "cce85c68-5c34-41ce-ba9f-b02c8db42000",
   "metadata": {},
   "source": [
    "### 기초 통계 (Basic statistics)\n",
    "📌통계는 아직 발생하지 않은 일을 예측하기 위해 사용한다.\n",
    "- 통계학을 공부하는 데 있어 필요한 기본 개념이고,  \n",
    "  수량적인 비교를 기초로 많은 사실을 관찰하고 처리하는 방법을 연구하는 학문이다.\n",
    "- 불균형 데이터를 대상으로 규칙성과 불규칙성을 발견한 뒤 실생활에 적용할 수 있다.\n",
    "\n",
    "<img src=\"./images/statistics01.png\" style=\"margin-left: 20px;\">"
   ]
  },
  {
   "cell_type": "markdown",
   "id": "74103f24-24d0-48aa-b6cb-61bf47c911db",
   "metadata": {},
   "source": [
    "#### 변량 (Variable)\n",
    "- 자료의 수치를 변량이라고 하며, 이는 데이터의 값을 의미한다."
   ]
  },
  {
   "cell_type": "code",
   "execution_count": 3,
   "id": "67648962-3d02-48b9-8375-cddba95fb392",
   "metadata": {},
   "outputs": [
    {
     "data": {
      "text/html": [
       "<div>\n",
       "<style scoped>\n",
       "    .dataframe tbody tr th:only-of-type {\n",
       "        vertical-align: middle;\n",
       "    }\n",
       "\n",
       "    .dataframe tbody tr th {\n",
       "        vertical-align: top;\n",
       "    }\n",
       "\n",
       "    .dataframe thead th {\n",
       "        text-align: right;\n",
       "    }\n",
       "</style>\n",
       "<table border=\"1\" class=\"dataframe\">\n",
       "  <thead>\n",
       "    <tr style=\"text-align: right;\">\n",
       "      <th></th>\n",
       "      <th>서울</th>\n",
       "      <th>경기</th>\n",
       "      <th>인천</th>\n",
       "      <th>광주</th>\n",
       "      <th>대구</th>\n",
       "      <th>부산</th>\n",
       "      <th>전주</th>\n",
       "      <th>강릉</th>\n",
       "      <th>울산</th>\n",
       "      <th>수원</th>\n",
       "    </tr>\n",
       "  </thead>\n",
       "  <tbody>\n",
       "    <tr>\n",
       "      <th>0</th>\n",
       "      <td>174</td>\n",
       "      <td>160</td>\n",
       "      <td>154</td>\n",
       "      <td>172</td>\n",
       "      <td>151</td>\n",
       "      <td>189</td>\n",
       "      <td>156</td>\n",
       "      <td>177</td>\n",
       "      <td>159</td>\n",
       "      <td>186</td>\n",
       "    </tr>\n",
       "    <tr>\n",
       "      <th>1</th>\n",
       "      <td>163</td>\n",
       "      <td>189</td>\n",
       "      <td>189</td>\n",
       "      <td>188</td>\n",
       "      <td>162</td>\n",
       "      <td>174</td>\n",
       "      <td>182</td>\n",
       "      <td>164</td>\n",
       "      <td>167</td>\n",
       "      <td>169</td>\n",
       "    </tr>\n",
       "    <tr>\n",
       "      <th>2</th>\n",
       "      <td>173</td>\n",
       "      <td>189</td>\n",
       "      <td>184</td>\n",
       "      <td>179</td>\n",
       "      <td>162</td>\n",
       "      <td>180</td>\n",
       "      <td>167</td>\n",
       "      <td>177</td>\n",
       "      <td>168</td>\n",
       "      <td>162</td>\n",
       "    </tr>\n",
       "    <tr>\n",
       "      <th>3</th>\n",
       "      <td>175</td>\n",
       "      <td>163</td>\n",
       "      <td>154</td>\n",
       "      <td>182</td>\n",
       "      <td>188</td>\n",
       "      <td>156</td>\n",
       "      <td>180</td>\n",
       "      <td>152</td>\n",
       "      <td>189</td>\n",
       "      <td>158</td>\n",
       "    </tr>\n",
       "    <tr>\n",
       "      <th>4</th>\n",
       "      <td>178</td>\n",
       "      <td>155</td>\n",
       "      <td>164</td>\n",
       "      <td>177</td>\n",
       "      <td>187</td>\n",
       "      <td>189</td>\n",
       "      <td>160</td>\n",
       "      <td>189</td>\n",
       "      <td>168</td>\n",
       "      <td>164</td>\n",
       "    </tr>\n",
       "    <tr>\n",
       "      <th>5</th>\n",
       "      <td>168</td>\n",
       "      <td>179</td>\n",
       "      <td>173</td>\n",
       "      <td>164</td>\n",
       "      <td>175</td>\n",
       "      <td>154</td>\n",
       "      <td>170</td>\n",
       "      <td>178</td>\n",
       "      <td>151</td>\n",
       "      <td>182</td>\n",
       "    </tr>\n",
       "    <tr>\n",
       "      <th>6</th>\n",
       "      <td>163</td>\n",
       "      <td>164</td>\n",
       "      <td>183</td>\n",
       "      <td>159</td>\n",
       "      <td>180</td>\n",
       "      <td>172</td>\n",
       "      <td>181</td>\n",
       "      <td>186</td>\n",
       "      <td>157</td>\n",
       "      <td>158</td>\n",
       "    </tr>\n",
       "    <tr>\n",
       "      <th>7</th>\n",
       "      <td>172</td>\n",
       "      <td>164</td>\n",
       "      <td>156</td>\n",
       "      <td>182</td>\n",
       "      <td>179</td>\n",
       "      <td>174</td>\n",
       "      <td>152</td>\n",
       "      <td>179</td>\n",
       "      <td>166</td>\n",
       "      <td>159</td>\n",
       "    </tr>\n",
       "    <tr>\n",
       "      <th>8</th>\n",
       "      <td>176</td>\n",
       "      <td>164</td>\n",
       "      <td>181</td>\n",
       "      <td>158</td>\n",
       "      <td>186</td>\n",
       "      <td>159</td>\n",
       "      <td>160</td>\n",
       "      <td>181</td>\n",
       "      <td>187</td>\n",
       "      <td>176</td>\n",
       "    </tr>\n",
       "    <tr>\n",
       "      <th>9</th>\n",
       "      <td>183</td>\n",
       "      <td>182</td>\n",
       "      <td>156</td>\n",
       "      <td>165</td>\n",
       "      <td>152</td>\n",
       "      <td>168</td>\n",
       "      <td>160</td>\n",
       "      <td>187</td>\n",
       "      <td>160</td>\n",
       "      <td>163</td>\n",
       "    </tr>\n",
       "  </tbody>\n",
       "</table>\n",
       "</div>"
      ],
      "text/plain": [
       "    서울   경기   인천   광주   대구   부산   전주   강릉   울산   수원\n",
       "0  174  160  154  172  151  189  156  177  159  186\n",
       "1  163  189  189  188  162  174  182  164  167  169\n",
       "2  173  189  184  179  162  180  167  177  168  162\n",
       "3  175  163  154  182  188  156  180  152  189  158\n",
       "4  178  155  164  177  187  189  160  189  168  164\n",
       "5  168  179  173  164  175  154  170  178  151  182\n",
       "6  163  164  183  159  180  172  181  186  157  158\n",
       "7  172  164  156  182  179  174  152  179  166  159\n",
       "8  176  164  181  158  186  159  160  181  187  176\n",
       "9  183  182  156  165  152  168  160  187  160  163"
      ]
     },
     "metadata": {},
     "output_type": "display_data"
    }
   ],
   "source": [
    "# 지역 별 총 100명의 키\n",
    "import pandas as pd\n",
    "import numpy as np\n",
    "\n",
    "df = pd.DataFrame(np.random.randint(151, 190, size=(10, 10)), \\\n",
    "                  columns=\"서울,경기,인천,광주,대구,부산,전주,강릉,울산,수원\".split(\",\"))\n",
    "display(df)"
   ]
  },
  {
   "cell_type": "code",
   "execution_count": null,
   "id": "b8b1b8e4-992c-4f7e-ab9e-71bfd62db4d2",
   "metadata": {},
   "outputs": [],
   "source": [
    "%%timeit -n 100 -r 10\n",
    "\n",
    "import pandas as pd\n",
    "import random\n",
    "\n",
    "df = pd.DataFrame([[random.randrange(151, 190) for _ in range(10)] for _ in range(10)], \\\n",
    "                  columns=\"서울,경기,인천,광주,대구,부산,전주,강릉,울산,수원\".split(\",\"))"
   ]
  },
  {
   "cell_type": "code",
   "execution_count": null,
   "id": "e9459926-339b-43c0-8e72-729ad2465685",
   "metadata": {},
   "outputs": [],
   "source": [
    "%%timeit -n 100 -r 10\n",
    "\n",
    "import pandas as pd\n",
    "import numpy as np\n",
    "\n",
    "df = pd.DataFrame(np.random.randint(151, 190, size=(10, 10)), \\\n",
    "                  columns=\"서울,경기,인천,광주,대구,부산,전주,강릉,울산,수원\".split(\",\"))"
   ]
  },
  {
   "cell_type": "markdown",
   "id": "534a1c19-9f3e-4fc2-af56-9cd54546704b",
   "metadata": {},
   "source": [
    "#### 계급 (Class)\n",
    "- 변량을 일정 간격으로 나눈 구간을 의미한다.\n",
    "- 변량의 최소값과 최대값을 잘 고려해서 계급을 정해야한다.\n",
    "- 예를 들어, 150 ~ 160 계급이 있을 경우, 160까지 속한다. 즉 151 ~ 160까지이다."
   ]
  },
  {
   "cell_type": "code",
   "execution_count": 4,
   "id": "091abfb0-5212-4856-a4a1-e7b97eefcb93",
   "metadata": {},
   "outputs": [
    {
     "data": {
      "text/html": [
       "<div>\n",
       "<style scoped>\n",
       "    .dataframe tbody tr th:only-of-type {\n",
       "        vertical-align: middle;\n",
       "    }\n",
       "\n",
       "    .dataframe tbody tr th {\n",
       "        vertical-align: top;\n",
       "    }\n",
       "\n",
       "    .dataframe thead th {\n",
       "        text-align: right;\n",
       "    }\n",
       "</style>\n",
       "<table border=\"1\" class=\"dataframe\">\n",
       "  <thead>\n",
       "    <tr style=\"text-align: right;\">\n",
       "      <th></th>\n",
       "      <th>서울</th>\n",
       "      <th>계급</th>\n",
       "    </tr>\n",
       "  </thead>\n",
       "  <tbody>\n",
       "    <tr>\n",
       "      <th>0</th>\n",
       "      <td>174</td>\n",
       "      <td>(170, 180]</td>\n",
       "    </tr>\n",
       "    <tr>\n",
       "      <th>1</th>\n",
       "      <td>163</td>\n",
       "      <td>(160, 170]</td>\n",
       "    </tr>\n",
       "    <tr>\n",
       "      <th>2</th>\n",
       "      <td>173</td>\n",
       "      <td>(170, 180]</td>\n",
       "    </tr>\n",
       "    <tr>\n",
       "      <th>3</th>\n",
       "      <td>175</td>\n",
       "      <td>(170, 180]</td>\n",
       "    </tr>\n",
       "    <tr>\n",
       "      <th>4</th>\n",
       "      <td>178</td>\n",
       "      <td>(170, 180]</td>\n",
       "    </tr>\n",
       "    <tr>\n",
       "      <th>5</th>\n",
       "      <td>168</td>\n",
       "      <td>(160, 170]</td>\n",
       "    </tr>\n",
       "    <tr>\n",
       "      <th>6</th>\n",
       "      <td>163</td>\n",
       "      <td>(160, 170]</td>\n",
       "    </tr>\n",
       "    <tr>\n",
       "      <th>7</th>\n",
       "      <td>172</td>\n",
       "      <td>(170, 180]</td>\n",
       "    </tr>\n",
       "    <tr>\n",
       "      <th>8</th>\n",
       "      <td>176</td>\n",
       "      <td>(170, 180]</td>\n",
       "    </tr>\n",
       "    <tr>\n",
       "      <th>9</th>\n",
       "      <td>183</td>\n",
       "      <td>(180, 190]</td>\n",
       "    </tr>\n",
       "  </tbody>\n",
       "</table>\n",
       "</div>"
      ],
      "text/plain": [
       "    서울          계급\n",
       "0  174  (170, 180]\n",
       "1  163  (160, 170]\n",
       "2  173  (170, 180]\n",
       "3  175  (170, 180]\n",
       "4  178  (170, 180]\n",
       "5  168  (160, 170]\n",
       "6  163  (160, 170]\n",
       "7  172  (170, 180]\n",
       "8  176  (170, 180]\n",
       "9  183  (180, 190]"
      ]
     },
     "execution_count": 4,
     "metadata": {},
     "output_type": "execute_result"
    }
   ],
   "source": [
    "df_seoul = df['서울']\n",
    "df_class = pd.cut(df_seoul, bins=[150, 160, 170, 180, 190])\n",
    "df_seoul_class = pd.DataFrame({'서울': df_seoul, '계급': df_class})\n",
    "df_seoul_class"
   ]
  },
  {
   "cell_type": "markdown",
   "id": "89ba6c0f-91a1-44b8-b6db-5dc7a2637c02",
   "metadata": {},
   "source": [
    "#### 도수 (Frequency)\n",
    "- 각 계급에 속하는 변량의 개수를 의미한다."
   ]
  },
  {
   "cell_type": "code",
   "execution_count": 8,
   "id": "ea27ea4c-37f8-44fc-8005-c300c259472f",
   "metadata": {},
   "outputs": [
    {
     "data": {
      "text/html": [
       "<div>\n",
       "<style scoped>\n",
       "    .dataframe tbody tr th:only-of-type {\n",
       "        vertical-align: middle;\n",
       "    }\n",
       "\n",
       "    .dataframe tbody tr th {\n",
       "        vertical-align: top;\n",
       "    }\n",
       "\n",
       "    .dataframe thead th {\n",
       "        text-align: right;\n",
       "    }\n",
       "</style>\n",
       "<table border=\"1\" class=\"dataframe\">\n",
       "  <thead>\n",
       "    <tr style=\"text-align: right;\">\n",
       "      <th></th>\n",
       "      <th>서울</th>\n",
       "    </tr>\n",
       "    <tr>\n",
       "      <th>계급</th>\n",
       "      <th></th>\n",
       "    </tr>\n",
       "  </thead>\n",
       "  <tbody>\n",
       "    <tr>\n",
       "      <th>(160, 170]</th>\n",
       "      <td>3</td>\n",
       "    </tr>\n",
       "    <tr>\n",
       "      <th>(170, 180]</th>\n",
       "      <td>6</td>\n",
       "    </tr>\n",
       "    <tr>\n",
       "      <th>(180, 190]</th>\n",
       "      <td>1</td>\n",
       "    </tr>\n",
       "  </tbody>\n",
       "</table>\n",
       "</div>"
      ],
      "text/plain": [
       "            서울\n",
       "계급            \n",
       "(160, 170]   3\n",
       "(170, 180]   6\n",
       "(180, 190]   1"
      ]
     },
     "execution_count": 8,
     "metadata": {},
     "output_type": "execute_result"
    }
   ],
   "source": [
    "df_seoul_class.groupby('계급', observed=True).count()"
   ]
  },
  {
   "cell_type": "markdown",
   "id": "25aa0338-2b05-4696-97ba-74d4dc29cf06",
   "metadata": {},
   "source": [
    "#### 상대 도수 (Relative frequency)\n",
    "- 각 계급에 속하는 변량의 비율을 의미한다."
   ]
  },
  {
   "cell_type": "code",
   "execution_count": 7,
   "id": "5238b812-ae64-4feb-a908-de40ad661a78",
   "metadata": {},
   "outputs": [
    {
     "data": {
      "text/html": [
       "<div>\n",
       "<style scoped>\n",
       "    .dataframe tbody tr th:only-of-type {\n",
       "        vertical-align: middle;\n",
       "    }\n",
       "\n",
       "    .dataframe tbody tr th {\n",
       "        vertical-align: top;\n",
       "    }\n",
       "\n",
       "    .dataframe thead th {\n",
       "        text-align: right;\n",
       "    }\n",
       "</style>\n",
       "<table border=\"1\" class=\"dataframe\">\n",
       "  <thead>\n",
       "    <tr style=\"text-align: right;\">\n",
       "      <th></th>\n",
       "      <th>서울</th>\n",
       "    </tr>\n",
       "    <tr>\n",
       "      <th>계급</th>\n",
       "      <th></th>\n",
       "    </tr>\n",
       "  </thead>\n",
       "  <tbody>\n",
       "    <tr>\n",
       "      <th>(150, 160]</th>\n",
       "      <td>0.00</td>\n",
       "    </tr>\n",
       "    <tr>\n",
       "      <th>(160, 170]</th>\n",
       "      <td>0.03</td>\n",
       "    </tr>\n",
       "    <tr>\n",
       "      <th>(170, 180]</th>\n",
       "      <td>0.06</td>\n",
       "    </tr>\n",
       "    <tr>\n",
       "      <th>(180, 190]</th>\n",
       "      <td>0.01</td>\n",
       "    </tr>\n",
       "  </tbody>\n",
       "</table>\n",
       "</div>"
      ],
      "text/plain": [
       "              서울\n",
       "계급              \n",
       "(150, 160]  0.00\n",
       "(160, 170]  0.03\n",
       "(170, 180]  0.06\n",
       "(180, 190]  0.01"
      ]
     },
     "execution_count": 7,
     "metadata": {},
     "output_type": "execute_result"
    }
   ],
   "source": [
    "df_seoul_class.groupby('계급', observed=False).count().apply(lambda x: x/100)"
   ]
  },
  {
   "cell_type": "markdown",
   "id": "50c9b016-f0b6-4cf9-933e-37c652fce00f",
   "metadata": {},
   "source": [
    "#### 도수분포표 (Frequency table)\n",
    "- 주어진 자료를 계급별로 나눈 뒤 각 계급에 속하는 도수 및 상대 도수를 조사한 표이다.\n",
    "- 구간별 분포를 한 번에 알아보기 좋지만 계급별 각 변량의 정확한 값이 생략되어 있다."
   ]
  },
  {
   "cell_type": "code",
   "execution_count": 15,
   "id": "9de72a70-fc61-40a1-bc0e-538728927630",
   "metadata": {},
   "outputs": [
    {
     "data": {
      "text/html": [
       "<div>\n",
       "<style scoped>\n",
       "    .dataframe tbody tr th:only-of-type {\n",
       "        vertical-align: middle;\n",
       "    }\n",
       "\n",
       "    .dataframe tbody tr th {\n",
       "        vertical-align: top;\n",
       "    }\n",
       "\n",
       "    .dataframe thead th {\n",
       "        text-align: right;\n",
       "    }\n",
       "</style>\n",
       "<table border=\"1\" class=\"dataframe\">\n",
       "  <thead>\n",
       "    <tr style=\"text-align: right;\">\n",
       "      <th></th>\n",
       "      <th>도수</th>\n",
       "      <th>상대도수</th>\n",
       "    </tr>\n",
       "    <tr>\n",
       "      <th>계급</th>\n",
       "      <th></th>\n",
       "      <th></th>\n",
       "    </tr>\n",
       "  </thead>\n",
       "  <tbody>\n",
       "    <tr>\n",
       "      <th>(150, 160]</th>\n",
       "      <td>0</td>\n",
       "      <td>0.00</td>\n",
       "    </tr>\n",
       "    <tr>\n",
       "      <th>(160, 170]</th>\n",
       "      <td>3</td>\n",
       "      <td>0.03</td>\n",
       "    </tr>\n",
       "    <tr>\n",
       "      <th>(170, 180]</th>\n",
       "      <td>6</td>\n",
       "      <td>0.06</td>\n",
       "    </tr>\n",
       "    <tr>\n",
       "      <th>(180, 190]</th>\n",
       "      <td>1</td>\n",
       "      <td>0.01</td>\n",
       "    </tr>\n",
       "  </tbody>\n",
       "</table>\n",
       "</div>"
      ],
      "text/plain": [
       "            도수  상대도수\n",
       "계급                  \n",
       "(150, 160]   0  0.00\n",
       "(160, 170]   3  0.03\n",
       "(170, 180]   6  0.06\n",
       "(180, 190]   1  0.01"
      ]
     },
     "metadata": {},
     "output_type": "display_data"
    }
   ],
   "source": [
    "freq_df = pd.DataFrame({\"도수\": df_seoul_class.groupby('계급', observed=False).count()[\"서울\"], \\\n",
    "             \"상대도수\": df_seoul_class.groupby('계급', observed=False).count().apply(lambda x: x/100)[\"서울\"]})\n",
    "display(freq_df)\n",
    "\n",
    "# 인덱스가 데이터(계급)로 되어있어야 도수분포표이다. 밑은 테이블!"
   ]
  },
  {
   "cell_type": "code",
   "execution_count": 11,
   "id": "0209d2d4-ac59-4da9-853f-d2ed7c67b83e",
   "metadata": {},
   "outputs": [
    {
     "data": {
      "text/html": [
       "<div>\n",
       "<style scoped>\n",
       "    .dataframe tbody tr th:only-of-type {\n",
       "        vertical-align: middle;\n",
       "    }\n",
       "\n",
       "    .dataframe tbody tr th {\n",
       "        vertical-align: top;\n",
       "    }\n",
       "\n",
       "    .dataframe thead th {\n",
       "        text-align: right;\n",
       "    }\n",
       "</style>\n",
       "<table border=\"1\" class=\"dataframe\">\n",
       "  <thead>\n",
       "    <tr style=\"text-align: right;\">\n",
       "      <th></th>\n",
       "      <th>계급</th>\n",
       "      <th>도수</th>\n",
       "      <th>상대도수</th>\n",
       "    </tr>\n",
       "  </thead>\n",
       "  <tbody>\n",
       "    <tr>\n",
       "      <th>0</th>\n",
       "      <td>(150, 160]</td>\n",
       "      <td>0</td>\n",
       "      <td>0.00</td>\n",
       "    </tr>\n",
       "    <tr>\n",
       "      <th>1</th>\n",
       "      <td>(160, 170]</td>\n",
       "      <td>3</td>\n",
       "      <td>0.03</td>\n",
       "    </tr>\n",
       "    <tr>\n",
       "      <th>2</th>\n",
       "      <td>(170, 180]</td>\n",
       "      <td>6</td>\n",
       "      <td>0.06</td>\n",
       "    </tr>\n",
       "    <tr>\n",
       "      <th>3</th>\n",
       "      <td>(180, 190]</td>\n",
       "      <td>1</td>\n",
       "      <td>0.01</td>\n",
       "    </tr>\n",
       "  </tbody>\n",
       "</table>\n",
       "</div>"
      ],
      "text/plain": [
       "           계급  도수  상대도수\n",
       "0  (150, 160]   0  0.00\n",
       "1  (160, 170]   3  0.03\n",
       "2  (170, 180]   6  0.06\n",
       "3  (180, 190]   1  0.01"
      ]
     },
     "execution_count": 11,
     "metadata": {},
     "output_type": "execute_result"
    }
   ],
   "source": [
    "freq_df.reset_index(drop=False)"
   ]
  },
  {
   "cell_type": "markdown",
   "id": "24ce4341-b089-4ec3-b7bc-06dded82b639",
   "metadata": {},
   "source": [
    "#### 히스토그램 (Histogram)\n",
    "- 도수분포표를 시각화한 그래프이다."
   ]
  },
  {
   "cell_type": "code",
   "execution_count": 17,
   "id": "b58f798c-0471-414c-a0ee-a26b73ba9fce",
   "metadata": {},
   "outputs": [
    {
     "data": {
      "text/plain": [
       "<Axes: >"
      ]
     },
     "execution_count": 17,
     "metadata": {},
     "output_type": "execute_result"
    },
    {
     "data": {
      "image/png": "[encoded data removed]",
      "text/plain": [
       "<Figure size 640x480 with 1 Axes>"
      ]
     },
     "metadata": {},
     "output_type": "display_data"
    }
   ],
   "source": [
    "import matplotlib.pyplot as plt\n",
    "import numpy as np\n",
    "\n",
    "df_seoul_class[\"서울\"].hist(bins=4)"
   ]
  },
  {
   "cell_type": "markdown",
   "id": "3eddd182-f19a-4102-8049-c2ff331b0abe",
   "metadata": {},
   "source": [
    "#### 산술 평균 (Mean)\n",
    "- 변량의 합을 변량의 수로 나눈 값을 의미한다.\n",
    "\n",
    "<img src=\"./images/mean.png\" style=\"margin-left: 20px;\">"
   ]
  },
  {
   "cell_type": "code",
   "execution_count": 18,
   "id": "dbeccdb4-5a40-4cd0-9628-b62c6803ce20",
   "metadata": {},
   "outputs": [
    {
     "data": {
      "text/html": [
       "<div>\n",
       "<style scoped>\n",
       "    .dataframe tbody tr th:only-of-type {\n",
       "        vertical-align: middle;\n",
       "    }\n",
       "\n",
       "    .dataframe tbody tr th {\n",
       "        vertical-align: top;\n",
       "    }\n",
       "\n",
       "    .dataframe thead th {\n",
       "        text-align: right;\n",
       "    }\n",
       "</style>\n",
       "<table border=\"1\" class=\"dataframe\">\n",
       "  <thead>\n",
       "    <tr style=\"text-align: right;\">\n",
       "      <th></th>\n",
       "      <th>평균 키</th>\n",
       "    </tr>\n",
       "  </thead>\n",
       "  <tbody>\n",
       "    <tr>\n",
       "      <th>서울</th>\n",
       "      <td>172.5</td>\n",
       "    </tr>\n",
       "    <tr>\n",
       "      <th>경기</th>\n",
       "      <td>170.9</td>\n",
       "    </tr>\n",
       "    <tr>\n",
       "      <th>인천</th>\n",
       "      <td>169.4</td>\n",
       "    </tr>\n",
       "    <tr>\n",
       "      <th>광주</th>\n",
       "      <td>172.6</td>\n",
       "    </tr>\n",
       "    <tr>\n",
       "      <th>대구</th>\n",
       "      <td>172.2</td>\n",
       "    </tr>\n",
       "    <tr>\n",
       "      <th>부산</th>\n",
       "      <td>171.5</td>\n",
       "    </tr>\n",
       "    <tr>\n",
       "      <th>전주</th>\n",
       "      <td>166.8</td>\n",
       "    </tr>\n",
       "    <tr>\n",
       "      <th>강릉</th>\n",
       "      <td>177.0</td>\n",
       "    </tr>\n",
       "    <tr>\n",
       "      <th>울산</th>\n",
       "      <td>167.2</td>\n",
       "    </tr>\n",
       "    <tr>\n",
       "      <th>수원</th>\n",
       "      <td>167.7</td>\n",
       "    </tr>\n",
       "  </tbody>\n",
       "</table>\n",
       "</div>"
      ],
      "text/plain": [
       "     평균 키\n",
       "서울  172.5\n",
       "경기  170.9\n",
       "인천  169.4\n",
       "광주  172.6\n",
       "대구  172.2\n",
       "부산  171.5\n",
       "전주  166.8\n",
       "강릉  177.0\n",
       "울산  167.2\n",
       "수원  167.7"
      ]
     },
     "execution_count": 18,
     "metadata": {},
     "output_type": "execute_result"
    }
   ],
   "source": [
    "df.mean(axis=0).to_frame(name='평균 키')"
   ]
  },
  {
   "cell_type": "markdown",
   "id": "c38322ea-103b-481c-afa8-0facc9d23613",
   "metadata": {},
   "source": [
    "#### 편차 (Deviation)\n",
    "- 변량에서 평균을 뺀 값이다.\n",
    "- 각 변량의 편차를 구한 뒤 모두 합하면 0이 되기 때문에 편차의 평균은 구할 수 없다."
   ]
  },
  {
   "cell_type": "code",
   "execution_count": 24,
   "id": "d464549c-5685-4def-80f2-732e9af2e200",
   "metadata": {},
   "outputs": [
    {
     "data": {
      "text/html": [
       "<div>\n",
       "<style scoped>\n",
       "    .dataframe tbody tr th:only-of-type {\n",
       "        vertical-align: middle;\n",
       "    }\n",
       "\n",
       "    .dataframe tbody tr th {\n",
       "        vertical-align: top;\n",
       "    }\n",
       "\n",
       "    .dataframe thead th {\n",
       "        text-align: right;\n",
       "    }\n",
       "</style>\n",
       "<table border=\"1\" class=\"dataframe\">\n",
       "  <thead>\n",
       "    <tr style=\"text-align: right;\">\n",
       "      <th></th>\n",
       "      <th>경기</th>\n",
       "      <th>편차</th>\n",
       "    </tr>\n",
       "  </thead>\n",
       "  <tbody>\n",
       "    <tr>\n",
       "      <th>0</th>\n",
       "      <td>160</td>\n",
       "      <td>-10.9</td>\n",
       "    </tr>\n",
       "    <tr>\n",
       "      <th>1</th>\n",
       "      <td>189</td>\n",
       "      <td>18.1</td>\n",
       "    </tr>\n",
       "    <tr>\n",
       "      <th>2</th>\n",
       "      <td>189</td>\n",
       "      <td>18.1</td>\n",
       "    </tr>\n",
       "    <tr>\n",
       "      <th>3</th>\n",
       "      <td>163</td>\n",
       "      <td>-7.9</td>\n",
       "    </tr>\n",
       "    <tr>\n",
       "      <th>4</th>\n",
       "      <td>155</td>\n",
       "      <td>-15.9</td>\n",
       "    </tr>\n",
       "    <tr>\n",
       "      <th>5</th>\n",
       "      <td>179</td>\n",
       "      <td>8.1</td>\n",
       "    </tr>\n",
       "    <tr>\n",
       "      <th>6</th>\n",
       "      <td>164</td>\n",
       "      <td>-6.9</td>\n",
       "    </tr>\n",
       "    <tr>\n",
       "      <th>7</th>\n",
       "      <td>164</td>\n",
       "      <td>-6.9</td>\n",
       "    </tr>\n",
       "    <tr>\n",
       "      <th>8</th>\n",
       "      <td>164</td>\n",
       "      <td>-6.9</td>\n",
       "    </tr>\n",
       "    <tr>\n",
       "      <th>9</th>\n",
       "      <td>182</td>\n",
       "      <td>11.1</td>\n",
       "    </tr>\n",
       "  </tbody>\n",
       "</table>\n",
       "</div>"
      ],
      "text/plain": [
       "    경기    편차\n",
       "0  160 -10.9\n",
       "1  189  18.1\n",
       "2  189  18.1\n",
       "3  163  -7.9\n",
       "4  155 -15.9\n",
       "5  179   8.1\n",
       "6  164  -6.9\n",
       "7  164  -6.9\n",
       "8  164  -6.9\n",
       "9  182  11.1"
      ]
     },
     "metadata": {},
     "output_type": "display_data"
    },
    {
     "name": "stdout",
     "output_type": "stream",
     "text": [
      "-5.684341886080802e-14\n",
      "편차의 합: 0\n"
     ]
    }
   ],
   "source": [
    "gyeonggi_df = df['경기'].to_frame()\n",
    "gyeonggi_df['편차'] = gyeonggi_df[\"경기\"].apply(lambda x:x - gyeonggi_df.mean())\n",
    "\n",
    "display(gyeonggi_df)\n",
    "\n",
    "# e가 붙어있는 수는 엄청 작은 수나 엄청 큰 수를 간략화 해주는 기능\n",
    "# 이 때 e는 자연상수가 아니며, 과학적 기수법 e라고 한다.\n",
    "# (a)e(b) = a * 10^b\n",
    "\n",
    "print(gyeonggi_df['편차'].sum())\n",
    "\n",
    "# 실수의 오류를 원래 값으로 변경하고자 반올림(round)사용\n",
    "total = round(gyeonggi_df['편차'].sum())\n",
    "print(f'편차의 합: {total}')"
   ]
  },
  {
   "cell_type": "markdown",
   "id": "7fdf3494-f891-41cc-bfad-1d7d0a171f24",
   "metadata": {},
   "source": [
    "#### 분산 (Variance)\n",
    "- 변량이 평균으로부터 떨어져있는 정도를 보기 위한 통계량이다.\n",
    "- 편차에 제곱하여 그 합을 구한 뒤 산술 평균을 낸다.\n",
    "\n",
    "<img src=\"./images/variance.png\" style=\"margin-left: 10px;\">"
   ]
  },
  {
   "cell_type": "code",
   "execution_count": 32,
   "id": "99b26ac9-3f85-4a04-a9e0-36eaf2c5186b",
   "metadata": {},
   "outputs": [
    {
     "data": {
      "text/html": [
       "<div>\n",
       "<style scoped>\n",
       "    .dataframe tbody tr th:only-of-type {\n",
       "        vertical-align: middle;\n",
       "    }\n",
       "\n",
       "    .dataframe tbody tr th {\n",
       "        vertical-align: top;\n",
       "    }\n",
       "\n",
       "    .dataframe thead th {\n",
       "        text-align: right;\n",
       "    }\n",
       "</style>\n",
       "<table border=\"1\" class=\"dataframe\">\n",
       "  <thead>\n",
       "    <tr style=\"text-align: right;\">\n",
       "      <th></th>\n",
       "      <th>경기</th>\n",
       "      <th>편차</th>\n",
       "      <th>편차의 제곱(분산)</th>\n",
       "    </tr>\n",
       "  </thead>\n",
       "  <tbody>\n",
       "    <tr>\n",
       "      <th>0</th>\n",
       "      <td>160</td>\n",
       "      <td>-10.9</td>\n",
       "      <td>118.81</td>\n",
       "    </tr>\n",
       "    <tr>\n",
       "      <th>1</th>\n",
       "      <td>189</td>\n",
       "      <td>18.1</td>\n",
       "      <td>327.61</td>\n",
       "    </tr>\n",
       "    <tr>\n",
       "      <th>2</th>\n",
       "      <td>189</td>\n",
       "      <td>18.1</td>\n",
       "      <td>327.61</td>\n",
       "    </tr>\n",
       "    <tr>\n",
       "      <th>3</th>\n",
       "      <td>163</td>\n",
       "      <td>-7.9</td>\n",
       "      <td>62.41</td>\n",
       "    </tr>\n",
       "    <tr>\n",
       "      <th>4</th>\n",
       "      <td>155</td>\n",
       "      <td>-15.9</td>\n",
       "      <td>252.81</td>\n",
       "    </tr>\n",
       "    <tr>\n",
       "      <th>5</th>\n",
       "      <td>179</td>\n",
       "      <td>8.1</td>\n",
       "      <td>65.61</td>\n",
       "    </tr>\n",
       "    <tr>\n",
       "      <th>6</th>\n",
       "      <td>164</td>\n",
       "      <td>-6.9</td>\n",
       "      <td>47.61</td>\n",
       "    </tr>\n",
       "    <tr>\n",
       "      <th>7</th>\n",
       "      <td>164</td>\n",
       "      <td>-6.9</td>\n",
       "      <td>47.61</td>\n",
       "    </tr>\n",
       "    <tr>\n",
       "      <th>8</th>\n",
       "      <td>164</td>\n",
       "      <td>-6.9</td>\n",
       "      <td>47.61</td>\n",
       "    </tr>\n",
       "    <tr>\n",
       "      <th>9</th>\n",
       "      <td>182</td>\n",
       "      <td>11.1</td>\n",
       "      <td>123.21</td>\n",
       "    </tr>\n",
       "  </tbody>\n",
       "</table>\n",
       "</div>"
      ],
      "text/plain": [
       "    경기    편차  편차의 제곱(분산)\n",
       "0  160 -10.9      118.81\n",
       "1  189  18.1      327.61\n",
       "2  189  18.1      327.61\n",
       "3  163  -7.9       62.41\n",
       "4  155 -15.9      252.81\n",
       "5  179   8.1       65.61\n",
       "6  164  -6.9       47.61\n",
       "7  164  -6.9       47.61\n",
       "8  164  -6.9       47.61\n",
       "9  182  11.1      123.21"
      ]
     },
     "metadata": {},
     "output_type": "display_data"
    },
    {
     "name": "stdout",
     "output_type": "stream",
     "text": [
      "분산: 142.09\n"
     ]
    }
   ],
   "source": [
    "gyeonggi_df[\"편차의 제곱(분산)\"] = gyeonggi_df[\"편차\"].apply(lambda x: x**2)\n",
    "\n",
    "display(gyeonggi_df)\n",
    "\n",
    "variance = gyeonggi_df[\"편차의 제곱(분산)\"].mean()\n",
    "\n",
    "print(f'분산: {round(variance, 2)}')"
   ]
  },
  {
   "cell_type": "markdown",
   "id": "97bc601a-655a-430e-af10-c63562de51f7",
   "metadata": {},
   "source": [
    "####  표준편차 (Standard deviation)\n",
    "- 분산의 제곱근이며, 관측된 변량의 흩어진 정도를 하나의 수치로 나타내는 통계량이다.\n",
    "- 표준편차가 작을 수록 평균 값에서 변량들의 거리가 가깝다고 판단한다.\n",
    "\n",
    "<img src=\"./images/standard_deviation.png\" style=\"margin-left: 15px;\">"
   ]
  },
  {
   "cell_type": "code",
   "execution_count": 33,
   "id": "a3bdb9d7-afcb-4d1c-b681-6eae78e4d21d",
   "metadata": {},
   "outputs": [
    {
     "name": "stdout",
     "output_type": "stream",
     "text": [
      "표준편차: 11.920151005754917\n"
     ]
    }
   ],
   "source": [
    "import math\n",
    "\n",
    "std = math.sqrt(variance)\n",
    "# 2제곱근\n",
    "\n",
    "print(f'표준편차: {std}')"
   ]
  },
  {
   "cell_type": "markdown",
   "id": "22575d56-c5c1-4ed4-bb55-c91427ea1e2b",
   "metadata": {},
   "source": [
    "#### 확률변수 (Random variable)\n",
    "- 머신러닝, 딥러닝 등 확률을 다루는 분야에 있어서 필수적인 개념이다.\n",
    "- 확률(probability)이 있다는 뜻은 사건(event)이 있다는 뜻이며,  \n",
    "  시행(trial)을 해야 시행의 결과인 사건(event)이 나타난다.\n",
    "- 시행(trial)을 해서 어떤 사건(event)이 나타났는지에 따라 값이 정해지는 변수이다.\n",
    "- 알파벳 대문자로 표현하며, X, Y, Z 또는 X<sub>1</sub>, X<sub>2</sub>, X<sub>3</sub>과 같이 표현한다.\n",
    "- 확률변수는 집합이며, 원소를 확률변수값(Value of random variable)이라고 표현한다.  \n",
    "  확률변수에서 사용한 알파벳의 소문자를 사용한다.\n",
    "  Y = { y<sub>1</sub>, y<sub>2</sub>, y<sub>3</sub> }, 이 때 Y는 확률변수이고 원소인 y<sub>1</sub>, y<sub>2</sub>, y<sub>3</sub>은 확률변수값이다.\n",
    "\n",
    "<img src=\"./images/random_variable.jpg\" width=\"300px\" style=\"margin-left: 15px;\">"
   ]
  },
  {
   "cell_type": "markdown",
   "id": "def55646-1a5e-41f8-bdab-89eaa7916d14",
   "metadata": {},
   "source": [
    "#### 범주형 확률변수 (Categorical random variable)\n",
    "- 범주형 확률변수값은 수치가 아닌 기호나 언어, 숫자등으로 표현하고, 기호나 언어는 순서를 가질 수도 있다.\n",
    "- 유한집합으로 표현한다. 유한집합은 원소의 수가 유한한 집합을 의미한다.\n",
    "- {앞면, 뒷면}, {동의, 비동의}, {선택, 미선택}, {봄, 여름, 가을, 겨울}"
   ]
  },
  {
   "cell_type": "markdown",
   "id": "15db82dd-adc9-459e-8365-18c13ace4df2",
   "metadata": {},
   "source": [
    "#### 이산형 확률변수 (Discrete random variable)\n",
    "- 이산형 확률변수 값은 수치로 표현하고 셀 수 있는 값이다. 이를 더 넓은 범위로,  \n",
    "  양적 확률변수 또는 수치형 확률변수라고도 부른다.\n",
    "- 유한집합 또는 셀 수 있는 무한집합으로 표현한다. 무한집합은 원소의 수가 무한한 집합을 의미한다.\n",
    "- {0, 1, 2, 3}, {10, 20, 30}, {1, 2, 3 ...}, {100, 1000, 10000}"
   ]
  },
  {
   "cell_type": "markdown",
   "id": "9a69223a-bc18-4aef-bfca-bf8029a4fd5a",
   "metadata": {},
   "source": [
    "####  연속형 확률변수 (Continuous random variable)\n",
    "- 연속형 확률변수는 구간을 나타내는 수치로 표현한다. 이를 더 넓은 범위로,\n",
    "  양적 확률변수 또는 수치형 확률변수라고도 부른다.\n",
    "- 셀 수 없는 무한집합으로 표현한다.\n",
    "- 128.56 < X < 268.56"
   ]
  },
  {
   "cell_type": "markdown",
   "id": "79c6c5de-3ab1-4424-8f9c-415b2cca6251",
   "metadata": {},
   "source": [
    "#### 확률분포 (Probability distribution)\n",
    "- 사건에 대한 확률변수에서 정의된 모든 확률값의 분포이며, 서로 다른 모든 결과의 출현 확률을 제공한다.\n",
    "> <strong>1) 동전 던지기(시행)</strong>  \n",
    "> <strong>2) { 0, 1 } (확률변수와 확률변수값)</strong>  \n",
    "> <strong>3) 완벽한 형태의 동전일 경우 확률분포</strong>  \n",
    ">\n",
    "> <img src=\"./images/probability_distribution01.png\">\n",
    ">  \n",
    ">  \n",
    "> <strong>1) 1 ~ 12까지 새겨진 주사위 던지기(시행)</strong>  \n",
    "> <strong>2) { 1, 2, 3, 4, 5, 6, 7, 8, 9, 10, 11, 12 } (확률변수와 확률변수값)</strong>  \n",
    "> <strong>3) 완벽한 형태의 주사위일 경우 확률분포</strong>  \n",
    ">\n",
    "> <img src=\"./images/probability_distribution02.png\">"
   ]
  },
  {
   "cell_type": "markdown",
   "id": "a50d7ee3-3c34-4bc9-a207-e8d3ea3bc5a7",
   "metadata": {},
   "source": [
    "#### 확률분포표 (Probability distribution table)\n",
    "- 확률변수의 모든 값(원소)에 대해 확률을 표로 표시한 것이다.\n",
    "- 범주형 또는 이산형 확률변수의 확률분포를 표현하기에 적합한 방식이다."
   ]
  },
  {
   "cell_type": "code",
   "execution_count": 40,
   "id": "f4691d32-4bd8-4292-aef8-dae03b65d839",
   "metadata": {},
   "outputs": [
    {
     "data": {
      "text/html": [
       "<div>\n",
       "<style scoped>\n",
       "    .dataframe tbody tr th:only-of-type {\n",
       "        vertical-align: middle;\n",
       "    }\n",
       "\n",
       "    .dataframe tbody tr th {\n",
       "        vertical-align: top;\n",
       "    }\n",
       "\n",
       "    .dataframe thead th {\n",
       "        text-align: right;\n",
       "    }\n",
       "</style>\n",
       "<table border=\"1\" class=\"dataframe\">\n",
       "  <thead>\n",
       "    <tr style=\"text-align: right;\">\n",
       "      <th></th>\n",
       "      <th>경주마 번호</th>\n",
       "      <th>1등 횟수</th>\n",
       "      <th>1등할 확률</th>\n",
       "    </tr>\n",
       "  </thead>\n",
       "  <tbody>\n",
       "    <tr>\n",
       "      <th>0</th>\n",
       "      <td>1</td>\n",
       "      <td>25</td>\n",
       "      <td>0.25</td>\n",
       "    </tr>\n",
       "    <tr>\n",
       "      <th>1</th>\n",
       "      <td>2</td>\n",
       "      <td>25</td>\n",
       "      <td>0.25</td>\n",
       "    </tr>\n",
       "    <tr>\n",
       "      <th>2</th>\n",
       "      <td>3</td>\n",
       "      <td>25</td>\n",
       "      <td>0.25</td>\n",
       "    </tr>\n",
       "    <tr>\n",
       "      <th>3</th>\n",
       "      <td>4</td>\n",
       "      <td>25</td>\n",
       "      <td>0.25</td>\n",
       "    </tr>\n",
       "  </tbody>\n",
       "</table>\n",
       "</div>"
      ],
      "text/plain": [
       "   경주마 번호  1등 횟수  1등할 확률\n",
       "0       1     25    0.25\n",
       "1       2     25    0.25\n",
       "2       3     25    0.25\n",
       "3       4     25    0.25"
      ]
     },
     "metadata": {},
     "output_type": "display_data"
    }
   ],
   "source": [
    "import numpy as np\n",
    "import pandas as pd\n",
    "\n",
    "df_h_dist = pd.DataFrame(np.arange(0, 100) % 4 + 1, columns=['경주마 번호'])\n",
    "\n",
    "df_h_dist_group = df_h_dist.groupby('경주마 번호')[\"경주마 번호\"].count().reset_index(name=\"1등 횟수\")\n",
    "\n",
    "df_h_dist_group['1등할 확률'] = df_h_dist_group['1등 횟수'] / 100\n",
    "display(df_h_dist_group)\n"
   ]
  },
  {
   "cell_type": "markdown",
   "id": "a584afc7-943d-40dd-9e63-7efb0194321f",
   "metadata": {},
   "source": [
    "#### 확률분포함수 (Probability distribution funtion)\n",
    "- 확률변수의 분포를 나타내는 함수로서, 확률변수의 확률변수값이 나올 확률을 나타내는 함수이다.\n",
    "- 확률질량함수, 확률밀도함수 등의 함수가 있다."
   ]
  },
  {
   "cell_type": "code",
   "execution_count": 43,
   "id": "cf633489-6098-4af0-99d9-b698c95a3261",
   "metadata": {},
   "outputs": [
    {
     "data": {
      "image/png": "[encoded data removed]",
      "text/plain": [
       "<Figure size 640x480 with 1 Axes>"
      ]
     },
     "metadata": {},
     "output_type": "display_data"
    }
   ],
   "source": [
    "import matplotlib.pyplot as plt\n",
    "import numpy as np\n",
    "\n",
    "plt.hist(df_h_dist['경주마 번호'], range(1, 6), density=True, color='pink', edgecolor=\"red\")\n",
    "plt.xlim(0,6)\n",
    "plt.ylim(0,1)\n",
    "plt.show()"
   ]
  },
  {
   "cell_type": "markdown",
   "id": "5de42190-b9a6-41de-8aef-769399316aaf",
   "metadata": {},
   "source": [
    "#### 확률질량 함수 (Probability mass funtion, pmf)\n",
    "- 확률변수 X의 분포를 나타내는 함수로서, x<sub>i</sub>가 나올 확률이다.\n",
    "- 확률변수의 값을 매개변수로 전달받고, 해당 값이 나타날 확률을 구해서 리턴하는 함수이다.\n",
    "- 범주형 확률변수와 이산형 확률변수에서 사용된다.\n",
    "- 확률변수에서 각 값에 대한 확률을 나타내는 것이 마치 각 값이 \"질량\"을 가지고 있는 것처럼 보이기 때문에 확률질량 함수라고 불린다.\n",
    "\n",
    "> 확률질량 함수 f는 확률변수 X가 x를 변수값으로 가질 때의 확률이다.  \n",
    "> <img src=\"./images/pmf01.png\" style=\"margin-top: 10px\">  \n",
    "> <img src=\"./images/pmf02.png\">  \n",
    "> <img src=\"./images/pmf03.png\">  "
   ]
  },
  {
   "cell_type": "code",
   "execution_count": 48,
   "id": "424cd777-ef46-4104-9e18-94cbee016835",
   "metadata": {},
   "outputs": [
    {
     "data": {
      "text/html": [
       "<div>\n",
       "<style scoped>\n",
       "    .dataframe tbody tr th:only-of-type {\n",
       "        vertical-align: middle;\n",
       "    }\n",
       "\n",
       "    .dataframe tbody tr th {\n",
       "        vertical-align: top;\n",
       "    }\n",
       "\n",
       "    .dataframe thead th {\n",
       "        text-align: right;\n",
       "    }\n",
       "</style>\n",
       "<table border=\"1\" class=\"dataframe\">\n",
       "  <thead>\n",
       "    <tr style=\"text-align: right;\">\n",
       "      <th></th>\n",
       "      <th>경주마 번호</th>\n",
       "      <th>1등 횟수</th>\n",
       "      <th>1등할 확률</th>\n",
       "    </tr>\n",
       "  </thead>\n",
       "  <tbody>\n",
       "    <tr>\n",
       "      <th>0</th>\n",
       "      <td>1</td>\n",
       "      <td>25</td>\n",
       "      <td>0.25</td>\n",
       "    </tr>\n",
       "    <tr>\n",
       "      <th>1</th>\n",
       "      <td>2</td>\n",
       "      <td>28</td>\n",
       "      <td>0.28</td>\n",
       "    </tr>\n",
       "    <tr>\n",
       "      <th>2</th>\n",
       "      <td>3</td>\n",
       "      <td>22</td>\n",
       "      <td>0.22</td>\n",
       "    </tr>\n",
       "    <tr>\n",
       "      <th>3</th>\n",
       "      <td>4</td>\n",
       "      <td>25</td>\n",
       "      <td>0.25</td>\n",
       "    </tr>\n",
       "  </tbody>\n",
       "</table>\n",
       "</div>"
      ],
      "text/plain": [
       "   경주마 번호  1등 횟수  1등할 확률\n",
       "0       1     25    0.25\n",
       "1       2     28    0.28\n",
       "2       3     22    0.22\n",
       "3       4     25    0.25"
      ]
     },
     "metadata": {},
     "output_type": "display_data"
    }
   ],
   "source": [
    "import numpy as np\n",
    "import pandas as pd\n",
    "\n",
    "df_h = pd.DataFrame(np.random.randint(1, 5, size=(100, 1)), columns=[\"경주마 번호\"])\n",
    "\n",
    "df_h_group = df_h.groupby(\"경주마 번호\")[\"경주마 번호\"].count().reset_index(name=\"1등 횟수\")\n",
    "\n",
    "df_h_group[\"1등할 확률\"] = df_h_group[\"1등 횟수\"] / 100\n",
    "\n",
    "\n",
    "display(df_h_group)"
   ]
  },
  {
   "cell_type": "code",
   "execution_count": 67,
   "id": "70f6d4fe-1807-457f-822a-07701197e7fc",
   "metadata": {},
   "outputs": [
    {
     "data": {
      "image/png": "[encoded data removed]",
      "text/plain": [
       "<Figure size 640x480 with 1 Axes>"
      ]
     },
     "metadata": {},
     "output_type": "display_data"
    }
   ],
   "source": [
    "import matplotlib.pyplot as plt\n",
    "import numpy as np\n",
    "\n",
    "plt.hist(df_h['경주마 번호'], range(1,6), density=True \\\n",
    "        , color = 'pink', edgecolor='red', linewidth=2)\n",
    "\n",
    "plt.show()"
   ]
  },
  {
   "cell_type": "markdown",
   "id": "d574308b-565f-45c1-ba90-386dc1bff237",
   "metadata": {},
   "source": [
    "#### 무한대 (Infinity)\n",
    "- 끝없이 커지는 상태를 의미하고 기호로 ∞를 사용한다."
   ]
  },
  {
   "cell_type": "markdown",
   "id": "e6320ca2-eba6-4b96-b555-5915341524d3",
   "metadata": {},
   "source": [
    "#### 무한소 0 (Infinitesimal)\n",
    "- 거의 없다는 의미이고, 0에 매우 근접하지만 0이 아닌 상태를 의미한다."
   ]
  },
  {
   "cell_type": "markdown",
   "id": "26679e25-571f-4c42-8a7d-515611e4c0d5",
   "metadata": {},
   "source": [
    "#### 미분 (Differential)\n",
    "- 기울기는 독립변수가 종속변수에 미치는 영향력의 크기를 의미한다.\n",
    "- 변경 전의 독립변수 x<sub>1</sub>이라는 점과 변경 후의 x<sub>2</sub>라는 점을 지나는 직선의 기울기가 바로 변화에 대한 속도이다.\n",
    "- 즉, 직선의 기울기가 4로 구해졌다면,  \n",
    "  종속변수가 독립변수의 변화에 4배 속도로 변화된 것이다.\n",
    "- 이 때, 두 점 사이가 무한히 가까워지면,  \n",
    "  결국 거의 한 점과 같은 점에 대한 접선의 기울기가 되고 이는 순간적인 변화량이다.\n",
    "- 미분을 통해서 독립변수가 굉장히 미세하게 변화할 때 순간적으로 종속변수가 얼마나 빠르게 변화하는 지를 알 수 있다."
   ]
  },
  {
   "cell_type": "markdown",
   "id": "b0554674-8bcd-448f-9b61-e1fb2cf376d7",
   "metadata": {},
   "source": [
    "#### 적분 (Integral)\n",
    "- 선분 = 높이(길이), 면적 =  가로 X 높이\n",
    "- 면적을 구할 때 여러 사각형으로 나눈 뒤 합하여도 전체 면적이 나온다.\n",
    "- 가로가 무한소 0인 사각형. 즉, 선분과 거의 비슷한 사각형을 쌓은 뒤, 각 면적을 모두 합하는 것이 적분이다."
   ]
  },
  {
   "cell_type": "markdown",
   "id": "f41d1e27-ab13-49c0-864d-732562265303",
   "metadata": {},
   "source": [
    "#### 확률밀도 함수 (Probability density function, pdf)\n",
    "- 확률변수 X의 분포를 나타내는 함수로서, 특정 구간에 속할 확률이고 이는 특정 구간을 적분한 값이다.\n",
    "- 확률변수값의 범위(구간)를 매개변수로 전달받고, 범위의 넓이를 구해서 리턴하는 함수이다.\n",
    "- 연속형 확률변수에서 사용된다.\n",
    "- 전체에 대한 확률이 아닌 구간에 포함될 확률을 나타내기 때문에 구간에 따른 밀도를 구하는것이고,  \n",
    "  이를 통해 확률밀도 함수라 불린다.\n",
    "\n",
    "> 확률질량 함수 f는 특정구간에 포함될 확률을 나타낸다.  \n",
    "> <img src=\"./images/pdf01.png\" style=\"margin-top: 10px\">  \n",
    "> <img src=\"./images/pdf02.png\">  \n",
    "> <img src=\"./images/pdf03.png\">  \n",
    "> <img src=\"./images/pdf04.png\">  \n"
   ]
  },
  {
   "cell_type": "code",
   "execution_count": 72,
   "id": "7710e24d-33f0-40b2-9e8d-572a27572b18",
   "metadata": {},
   "outputs": [
    {
     "name": "stdout",
     "output_type": "stream",
     "text": [
      "구간 [-1, 2]에서의 확률: 0.8185946141203638\n"
     ]
    },
    {
     "data": {
      "image/png": "[encoded data removed]",
      "text/plain": [
       "<Figure size 640x480 with 1 Axes>"
      ]
     },
     "metadata": {},
     "output_type": "display_data"
    }
   ],
   "source": [
    "import numpy as np\n",
    "import matplotlib.pyplot as plt\n",
    "from scipy.integrate import quad\n",
    "\n",
    "# 임의의 확률밀도 함수 정의\n",
    "def pdf(x):\n",
    "    # 정규분포\n",
    "    mu = 0\n",
    "    sigma = 1\n",
    "    return 1 / (sigma * np.sqrt(2 * np.pi)) * np.exp(-((x - mu) / sigma) ** 2 / 2)\n",
    "\n",
    "# 랜덤한 구간\n",
    "a = -1\n",
    "b = 2\n",
    "\n",
    "def calculate_probability_in_range(a, b):\n",
    "    probability, _ = quad(pdf, a, b)\n",
    "    return probability\n",
    "\n",
    "probability = calculate_probability_in_range(a, b)\n",
    "print(f'구간 [{a}, {b}]에서의 확률: {probability}')\n",
    "\n",
    "x_values = np.linspace(-5, 5, 10000)\n",
    "y_values = pdf(x_values)\n",
    "\n",
    "plt.plot(x_values, y_values, label='pdf', color='blue')\n",
    "plt.fill_between(x_values, y_values\\\n",
    "                 , where=(x_values >= a) & (x_values <= b)\\\n",
    "                 , color='skyblue', alpha=0.5, label='area')\n",
    "plt.axvline(x=a, linestyle='--', color='red', label='start')\n",
    "plt.axvline(x=b, linestyle='--', color='red', label='end')\n",
    "plt.xlabel('x')\n",
    "plt.ylabel('density')\n",
    "plt.title('Probability density function')\n",
    "plt.legend()\n",
    "plt.grid(True)\n",
    "plt.show()"
   ]
  },
  {
   "cell_type": "markdown",
   "id": "ebf72229-968a-4c0c-9ed3-dad3cd396284",
   "metadata": {},
   "source": [
    "#### 정규분포 (Nomal distribution)\n",
    "- 모든 독립적인 확률변수들의 평균은 어떠한 분포에 가까워지는데, 이 분포를 정규분포라고 한다.\n",
    "- 즉, 비정규분포의 대부분은 극한상태에 있어서 정규분포에 가까워진다.\n",
    "\n",
    "<img src=\"./images/normal_distribution01.png\" width=\"500px\"> <img src=\"./images/normal_distribution02.png\" width=\"500px\">   \n",
    "- 평균 μ(mu)와 표준편차 σ(sigma)에 대해 아래의 확률밀도함수를 가지는 분포를 의미한다.\n",
    "\n",
    "<div style=\"display: flex\">\n",
    "    <div>\n",
    "        <img src=\"./images/normal_distribution03.png\" width=\"230px\" style=\"margin-left: 20px\">\n",
    "    </div>\n",
    "    <div>\n",
    "        <img src=\"./images/normal_distribution04.png\" width=\"700px\" style=\"margin-left: 20px\">\n",
    "    </div>\n",
    "</div>"
   ]
  },
  {
   "cell_type": "markdown",
   "id": "2bdcda8f-edb6-47e1-852f-840577ed6c04",
   "metadata": {},
   "source": [
    "#### 표준정규분포 (Standard normal distribution)\n",
    "- 정규분포는 평균과 표준편차에 따라서 모양이 달라진다.\n",
    "\n",
    "<img src=\"./images/standard_normal_distribution01.png\" width=\"400px\">\n",
    "\n",
    "- 정규분포를 따르는 분포는 많지만 각각 평균과 표준편차가 달라서 매번 확률을 계산해야 하기 때문에 일반화할 수 없다.\n",
    "- N(μ, σ) = N(0, 1) 즉, 평균을 0, 표준편차를 1로 만든다면 모두 같은 특성을 가지는 동일한 확률분포로 바꿔서 일반화할 수 있다.\n",
    "- 따라서 일반 정규분포를 표준 정규분포로 바꾼 뒤 표준 정규분포의 특정 구간의 넓이를 이용해서 원래 분포의 확률을 구할 수 있다.\n",
    "\n",
    "<img src=\"./images/standard_normal_distribution02.png\" width=\"550px\">"
   ]
  },
  {
   "cell_type": "markdown",
   "id": "06e54e64-0940-4190-92b1-788a3f5d5b2a",
   "metadata": {},
   "source": [
    "#### 표준화 (Standardization)\n",
    "- 다양한 형태의 정규 분포를 표준 정규분포로 변환하는 작업이다.\n",
    "- 표준 정규분포에 대한 값(넓이)를 이용해 원래 분포의 확률을 구할 수 있다.\n",
    "\n",
    "<img src=\"./images/standardization01.png\" style=\"margin-left: 20px\"> 표준화 할 때 쓰는 공식   \n",
    "\n",
    "<img src=\"./images/standardization02.png\" style=\"margin-left: 20px\">"
   ]
  },
  {
   "cell_type": "markdown",
   "id": "3a3df9a6-b867-495c-be5a-be91c29aec9f",
   "metadata": {},
   "source": [
    "#### 모집단과 모수 (Population and population parameter)\n",
    "- 모집단이란, 정보를 얻고자 하는 대상의 전체 집합을 의미한다.\n",
    "- 모수란, 모집단의 수치적 요약값을 의미한다. 평균 또는 표준편차와 같은 모집단의 통계값을 모수라고 한다."
   ]
  },
  {
   "cell_type": "markdown",
   "id": "b37f78b1-0140-4ace-8658-7cea88317305",
   "metadata": {},
   "source": [
    "#### 표본과 샘플링 (Sample and Sampling)\n",
    "- 표본이란, 모집단의 부분집합으로서 표본의 통계량을 통해 모집단의 통계량을 추론할 수 있다.\n",
    "- 모집단의 통계량을 구할 수 없는 상황 즉, 전수 조사가 불가능한 상황에서 임의의 표본을 추출하여 분석한다.\n",
    "- 이렇게 표본(sample)을 추출하는 작업을 샘플링(Sampling)이라고 한다."
   ]
  },
  {
   "cell_type": "markdown",
   "id": "5b01a5e5-be8e-4e4c-aade-12952ee7ebdf",
   "metadata": {},
   "source": [
    "### 데이터 분석의 범위\n",
    "<img src=\"./images/statistics02.png\" width=\"400px\" style =\"margin-left: 10px;\"> 왼: 기술통계, 우:추론통계\n",
    "\n",
    "#### 기술 통계 (Descriptive Statistics)\n",
    "- 수집한 데이터의 요약을 통해서 데이터를 설명(묘사)하는 기법이다.\n",
    "- 수집한 데이터의 전체적인 모양을 그리기 위해 기술 통계 기법을 사용한다.\n",
    "- 집중화 경향(Central tendency) : 평균(Mean), 중앙값(Median), 최빈값(Mode)\n",
    "- 분산도(Variation) : 표준편차(Standard deviation), 사분위(Quartile)\n",
    "\n",
    "#### 추론 통계 (Inferential Statistics)\n",
    "- 수집한 데이터를 기반으로 특성(패턴)을 알아낸 뒤 특정 데이터를 추론하거나 예측하는 기법이다.\n",
    "- 모집단(Population)에서 일정 표본()을 채취한 뒤, 표본에 대한 통계를 구하여 모집단에 대해 추론한다. 이를 통해 결론에 도달하는 기법이다.\n",
    "- 데이터 전체를 조사할 수 없을 때, 랜덤한 표본을 분석해서 나온 결과를 전체적으로 일반화 시킬 때 유용하다."
   ]
  }
 ],
 "metadata": {
  "kernelspec": {
   "display_name": "Python 3 (ipykernel)",
   "language": "python",
   "name": "python3"
  },
  "language_info": {
   "codemirror_mode": {
    "name": "ipython",
    "version": 3
   },
   "file_extension": ".py",
   "mimetype": "text/x-python",
   "name": "python",
   "nbconvert_exporter": "python",
   "pygments_lexer": "ipython3",
   "version": "3.11.8"
  }
 },
 "nbformat": 4,
 "nbformat_minor": 5
}
